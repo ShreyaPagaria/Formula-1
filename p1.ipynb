{
 "cells": [
  {
   "cell_type": "code",
   "execution_count": 113,
   "metadata": {},
   "outputs": [
    {
     "name": "stdout",
     "output_type": "stream",
     "text": [
      "Requirement already satisfied: kagglehub in c:\\users\\shreya\\anaconda3\\envs\\14763\\lib\\site-packages (0.3.3)\n",
      "Requirement already satisfied: packaging in c:\\users\\shreya\\anaconda3\\envs\\14763\\lib\\site-packages (from kagglehub) (24.1)\n",
      "Requirement already satisfied: requests in c:\\users\\shreya\\anaconda3\\envs\\14763\\lib\\site-packages (from kagglehub) (2.32.3)\n",
      "Requirement already satisfied: tqdm in c:\\users\\shreya\\anaconda3\\envs\\14763\\lib\\site-packages (from kagglehub) (4.66.5)\n",
      "Requirement already satisfied: charset-normalizer<4,>=2 in c:\\users\\shreya\\anaconda3\\envs\\14763\\lib\\site-packages (from requests->kagglehub) (3.3.2)\n",
      "Requirement already satisfied: idna<4,>=2.5 in c:\\users\\shreya\\anaconda3\\envs\\14763\\lib\\site-packages (from requests->kagglehub) (3.8)\n",
      "Requirement already satisfied: urllib3<3,>=1.21.1 in c:\\users\\shreya\\anaconda3\\envs\\14763\\lib\\site-packages (from requests->kagglehub) (2.2.3)\n",
      "Requirement already satisfied: certifi>=2017.4.17 in c:\\users\\shreya\\anaconda3\\envs\\14763\\lib\\site-packages (from requests->kagglehub) (2024.8.30)\n",
      "Requirement already satisfied: colorama in c:\\users\\shreya\\anaconda3\\envs\\14763\\lib\\site-packages (from tqdm->kagglehub) (0.4.6)\n"
     ]
    }
   ],
   "source": [
    "!pip install kagglehub"
   ]
  },
  {
   "cell_type": "code",
   "execution_count": 114,
   "metadata": {},
   "outputs": [],
   "source": [
    "# import kagglehub\n",
    "\n",
    "# # Download latest version\n",
    "# path = kagglehub.dataset_download(\"rohanrao/formula-1-world-championship-1950-2020\")\n",
    "\n",
    "# print(\"Path to dataset files:\", path)"
   ]
  },
  {
   "cell_type": "markdown",
   "metadata": {},
   "source": [
    "<h1> Importing necessary libraries </h1>"
   ]
  },
  {
   "cell_type": "code",
   "execution_count": 115,
   "metadata": {},
   "outputs": [],
   "source": [
    "import numpy as np\n",
    "import matplotlib as plt\n",
    "import pandas as pd\n",
    "\n",
    "import findspark\n",
    "findspark.init()\n",
    "findspark.find()\n",
    "import pyspark\n",
    "from pyspark.sql import SparkSession\n",
    "from pyspark import SparkContext, SQLContext"
   ]
  },
  {
   "cell_type": "markdown",
   "metadata": {},
   "source": [
    "<h1> Initialising Spark </h1>"
   ]
  },
  {
   "cell_type": "code",
   "execution_count": 116,
   "metadata": {},
   "outputs": [
    {
     "name": "stderr",
     "output_type": "stream",
     "text": [
      "C:\\spark\\spark-3.5.2-bin-hadoop3\\python\\pyspark\\sql\\context.py:113: FutureWarning: Deprecated in 3.0.0. Use SparkSession.builder.getOrCreate() instead.\n",
      "  warnings.warn(\n"
     ]
    }
   ],
   "source": [
    "appName = \"Race Prediciton Analysis\"\n",
    "master = \"local\"\n",
    "\n",
    "conf = pyspark.SparkConf()\\\n",
    "    .set('spark.driver.host','127.0.0.1')\\\n",
    "    .setAppName(appName)\\\n",
    "    .setMaster(master)\n",
    "\n",
    "sc = SparkContext.getOrCreate(conf=conf)\n",
    "\n",
    "sqlContext = SQLContext(sc)\n",
    "\n",
    "spark = sqlContext.sparkSession.builder.getOrCreate()"
   ]
  },
  {
   "cell_type": "markdown",
   "metadata": {},
   "source": [
    "<h1> Race Performance Analysis</h1>\n",
    "\n",
    "<h3> Datasets used: races.csv, lap_times.csv, drivers.csv, pit_stops.csv and circuits.csv</h3>\n",
    "<h4> Link: https://www.kaggle.com/datasets/rohanrao/formula-1-world-championship-1950-2020?resource=download </h4>"
   ]
  },
  {
   "cell_type": "code",
   "execution_count": 117,
   "metadata": {},
   "outputs": [],
   "source": [
    "drivers = spark.read.csv(\"C:\\\\Users\\\\Shreya\\\\Desktop\\\\SYS TOOL\\\\F1\\\\23\\\\drivers.csv\", header=True, inferSchema=True)\n",
    "races = spark.read.csv(\"C:\\\\Users\\\\Shreya\\\\Desktop\\\\SYS TOOL\\\\F1\\\\23\\\\races.csv\", header=True, inferSchema=True)\n",
    "lap_times = spark.read.csv(\"C:\\\\Users\\\\Shreya\\\\Desktop\\\\SYS TOOL\\\\F1\\\\23\\\\lap_times.csv\", header=True, inferSchema=True)\n",
    "pit_stops = spark.read.csv(\"C:\\\\Users\\\\Shreya\\\\Desktop\\\\SYS TOOL\\\\F1\\\\23\\\\pit_stops.csv\", header=True, inferSchema=True)\n",
    "circuits = spark.read.csv(\"C:\\\\Users\\\\Shreya\\\\Desktop\\\\SYS TOOL\\\\F1\\\\23\\\\circuits.csv\", header=True, inferSchema=True)\n",
    "results = spark.read.csv(\"C:\\\\Users\\\\Shreya\\\\Desktop\\\\SYS TOOL\\\\F1\\\\23\\\\results.csv\", header=True, inferSchema=True)\n",
    "constructors = spark.read.csv(\"C:\\\\Users\\\\Shreya\\\\Desktop\\\\SYS TOOL\\\\F1\\\\23\\\\constructors.csv\", header=True, inferSchema=True)\n",
    "\n",
    "\n",
    "# dataset = spark.read.csv([\"C:\\\\Users\\\\Shreya\\\\Desktop\\\\SYS TOOL\\\\F1\\\\23\\\\races.csv\",\n",
    "                        #   \"C:\\\\Users\\\\Shreya\\\\Desktop\\\\SYS TOOL\\\\F1\\\\23\\\\lap_times.csv\",\n",
    "                        #   \"C:\\\\Users\\\\Shreya\\\\Desktop\\\\SYS TOOL\\\\F1\\\\23\\\\drivers.csv\",\n",
    "                        #   \"C:\\\\Users\\\\Shreya\\\\Desktop\\\\SYS TOOL\\\\F1\\\\23\\\\pit_stops.csv\",\n",
    "                        #   \"C:\\\\Users\\\\Shreya\\\\Desktop\\\\SYS TOOL\\\\F1\\\\23\\\\circuits.csv\"], header=True)"
   ]
  },
  {
   "cell_type": "code",
   "execution_count": 118,
   "metadata": {},
   "outputs": [
    {
     "name": "stdout",
     "output_type": "stream",
     "text": [
      "root\n",
      " |-- driverId: integer (nullable = true)\n",
      " |-- driverRef: string (nullable = true)\n",
      " |-- number: string (nullable = true)\n",
      " |-- code: string (nullable = true)\n",
      " |-- forename: string (nullable = true)\n",
      " |-- surname: string (nullable = true)\n",
      " |-- dob: date (nullable = true)\n",
      " |-- nationality: string (nullable = true)\n",
      " |-- url: string (nullable = true)\n",
      "\n",
      "root\n",
      " |-- raceId: integer (nullable = true)\n",
      " |-- year: integer (nullable = true)\n",
      " |-- round: integer (nullable = true)\n",
      " |-- circuitId: integer (nullable = true)\n",
      " |-- name: string (nullable = true)\n",
      " |-- date: string (nullable = true)\n",
      " |-- time: string (nullable = true)\n",
      " |-- url: string (nullable = true)\n",
      " |-- fp1_date: string (nullable = true)\n",
      " |-- fp1_time: string (nullable = true)\n",
      " |-- fp2_date: string (nullable = true)\n",
      " |-- fp2_time: string (nullable = true)\n",
      " |-- fp3_date: string (nullable = true)\n",
      " |-- fp3_time: string (nullable = true)\n",
      " |-- quali_date: string (nullable = true)\n",
      " |-- quali_time: string (nullable = true)\n",
      " |-- sprint_date: string (nullable = true)\n",
      " |-- sprint_time: string (nullable = true)\n",
      "\n"
     ]
    }
   ],
   "source": [
    "drivers.printSchema()\n",
    "races.printSchema()\n"
   ]
  },
  {
   "cell_type": "code",
   "execution_count": 119,
   "metadata": {},
   "outputs": [
    {
     "name": "stdout",
     "output_type": "stream",
     "text": [
      "root\n",
      " |-- raceId: integer (nullable = true)\n",
      " |-- driverId: integer (nullable = true)\n",
      " |-- lap: integer (nullable = true)\n",
      " |-- position: integer (nullable = true)\n",
      " |-- time: string (nullable = true)\n",
      " |-- milliseconds: integer (nullable = true)\n",
      "\n"
     ]
    }
   ],
   "source": [
    "lap_times.printSchema()"
   ]
  },
  {
   "cell_type": "code",
   "execution_count": 120,
   "metadata": {},
   "outputs": [
    {
     "name": "stdout",
     "output_type": "stream",
     "text": [
      "root\n",
      " |-- raceId: integer (nullable = true)\n",
      " |-- driverId: integer (nullable = true)\n",
      " |-- stop: integer (nullable = true)\n",
      " |-- lap: integer (nullable = true)\n",
      " |-- time: timestamp (nullable = true)\n",
      " |-- duration: string (nullable = true)\n",
      " |-- milliseconds: integer (nullable = true)\n",
      "\n",
      "root\n",
      " |-- circuitId: integer (nullable = true)\n",
      " |-- circuitRef: string (nullable = true)\n",
      " |-- name: string (nullable = true)\n",
      " |-- location: string (nullable = true)\n",
      " |-- country: string (nullable = true)\n",
      " |-- lat: double (nullable = true)\n",
      " |-- lng: double (nullable = true)\n",
      " |-- alt: integer (nullable = true)\n",
      " |-- url: string (nullable = true)\n",
      "\n"
     ]
    }
   ],
   "source": [
    "pit_stops.printSchema()\n",
    "circuits.printSchema()"
   ]
  },
  {
   "cell_type": "code",
   "execution_count": 121,
   "metadata": {},
   "outputs": [
    {
     "name": "stdout",
     "output_type": "stream",
     "text": [
      "root\n",
      " |-- constructorId: integer (nullable = true)\n",
      " |-- constructorRef: string (nullable = true)\n",
      " |-- name: string (nullable = true)\n",
      " |-- nationality: string (nullable = true)\n",
      " |-- url: string (nullable = true)\n",
      "\n",
      "root\n",
      " |-- resultId: integer (nullable = true)\n",
      " |-- raceId: integer (nullable = true)\n",
      " |-- driverId: integer (nullable = true)\n",
      " |-- constructorId: integer (nullable = true)\n",
      " |-- number: string (nullable = true)\n",
      " |-- grid: integer (nullable = true)\n",
      " |-- position: string (nullable = true)\n",
      " |-- positionText: string (nullable = true)\n",
      " |-- positionOrder: integer (nullable = true)\n",
      " |-- points: double (nullable = true)\n",
      " |-- laps: integer (nullable = true)\n",
      " |-- time: string (nullable = true)\n",
      " |-- milliseconds: string (nullable = true)\n",
      " |-- fastestLap: string (nullable = true)\n",
      " |-- rank: string (nullable = true)\n",
      " |-- fastestLapTime: string (nullable = true)\n",
      " |-- fastestLapSpeed: string (nullable = true)\n",
      " |-- statusId: integer (nullable = true)\n",
      "\n"
     ]
    }
   ],
   "source": [
    "constructors.printSchema()\n",
    "results.printSchema()"
   ]
  },
  {
   "cell_type": "markdown",
   "metadata": {},
   "source": [
    "<H4> PHASE I: </H4>\n",
    "Data Cleaning Steps: <br>\n",
    "1. Renaming column names if required: <BR>\n",
    "2. Correct the datatype of the columns <BR>\n",
    "3. drop columns that are of no interest <br>\n",
    "4. handle missing or NA values in the dataset and then drop if the null values are more than 50% <br>"
   ]
  },
  {
   "cell_type": "code",
   "execution_count": 122,
   "metadata": {},
   "outputs": [
    {
     "name": "stdout",
     "output_type": "stream",
     "text": [
      "+--------+---------+------+----+--------+-------+---+-----------+---+\n",
      "|driverId|driverRef|number|code|forename|surname|dob|nationality|url|\n",
      "+--------+---------+------+----+--------+-------+---+-----------+---+\n",
      "|       0|        0|   802| 757|       0|      0|  0|          0|  0|\n",
      "+--------+---------+------+----+--------+-------+---+-----------+---+\n",
      "\n",
      "+------+----+-----+---------+----+----+----+---+--------+--------+--------+--------+--------+--------+----------+----------+-----------+-----------+\n",
      "|raceId|year|round|circuitId|name|date|time|url|fp1_date|fp1_time|fp2_date|fp2_time|fp3_date|fp3_time|quali_date|quali_time|sprint_date|sprint_time|\n",
      "+------+----+-----+---------+----+----+----+---+--------+--------+--------+--------+--------+--------+----------+----------+-----------+-----------+\n",
      "|     0|   0|    0|        0|   0|   0| 731|  0|    1035|    1057|    1035|    1057|    1053|    1072|      1035|      1057|       1107|       1110|\n",
      "+------+----+-----+---------+----+----+----+---+--------+--------+--------+--------+--------+--------+----------+----------+-----------+-----------+\n",
      "\n",
      "+------+--------+---+--------+----+------------+\n",
      "|raceId|driverId|lap|position|time|milliseconds|\n",
      "+------+--------+---+--------+----+------------+\n",
      "|     0|       0|  0|       0|   0|           0|\n",
      "+------+--------+---+--------+----+------------+\n",
      "\n",
      "+------+--------+----+---+----+--------+------------+\n",
      "|raceId|driverId|stop|lap|time|duration|milliseconds|\n",
      "+------+--------+----+---+----+--------+------------+\n",
      "|     0|       0|   0|  0|   0|       0|           0|\n",
      "+------+--------+----+---+----+--------+------------+\n",
      "\n",
      "+---------+----------+----+--------+-------+---+---+---+---+\n",
      "|circuitId|circuitRef|name|location|country|lat|lng|alt|url|\n",
      "+---------+----------+----+--------+-------+---+---+---+---+\n",
      "|        0|         0|   0|       0|      0|  0|  0|  0|  0|\n",
      "+---------+----------+----+--------+-------+---+---+---+---+\n",
      "\n",
      "+-------------+--------------+----+-----------+---+\n",
      "|constructorId|constructorRef|name|nationality|url|\n",
      "+-------------+--------------+----+-----------+---+\n",
      "|            0|             0|   0|          0|  0|\n",
      "+-------------+--------------+----+-----------+---+\n",
      "\n",
      "+--------+------+--------+-------------+------+----+--------+------------+-------------+------+----+-----+------------+----------+-----+--------------+---------------+--------+\n",
      "|resultId|raceId|driverId|constructorId|number|grid|position|positionText|positionOrder|points|laps| time|milliseconds|fastestLap| rank|fastestLapTime|fastestLapSpeed|statusId|\n",
      "+--------+------+--------+-------------+------+----+--------+------------+-------------+------+----+-----+------------+----------+-----+--------------+---------------+--------+\n",
      "|       0|     0|       0|            0|     6|   0|   10928|           0|            0|     0|   0|18986|       18986|     18499|18249|         18499|          18499|       0|\n",
      "+--------+------+--------+-------------+------+----+--------+------------+-------------+------+----+-----+------------+----------+-----+--------------+---------------+--------+\n",
      "\n"
     ]
    }
   ],
   "source": [
    "from pyspark.sql.functions import col, sum, when\n",
    "\n",
    "# Check for null values column-wise\n",
    "# races.select([sum(col(c).isNull().cast(\"int\")).alias(c) for c in races.columns]).show()\n",
    "\n",
    "\n",
    "# races.select([sum(when(col(c) == \"\\\\N\", 1).otherwise(0)).alias(c) for c in races.columns]).show()\n",
    "\n",
    "\n",
    "\n",
    "\n",
    "# Check for null, 'NA', 'N/A', or empty string values\n",
    "drivers.select([sum(when(col(c).isNull() | (col(c) == \"NA\") | (col(c) == \"\\\\N\") | (col(c) == \"\"), 1)\n",
    "                    .otherwise(0)).alias(c) for c in drivers.columns]).show()\n",
    "\n",
    "races.select([sum(when(col(c).isNull() | (col(c) == \"NA\") | (col(c) == \"\\\\N\") | (col(c) == \"\"), 1)\n",
    "                    .otherwise(0)).alias(c) for c in races.columns]).show()\n",
    "\n",
    "lap_times.select([sum(when(col(c).isNull() | (col(c) == \"NA\") | (col(c) == \"\\\\N\") | (col(c) == \"\"), 1)\n",
    "                    .otherwise(0)).alias(c) for c in lap_times.columns]).show()\n",
    "\n",
    "pit_stops.select([sum(when(col(c).isNull() | (col(c) == \"NA\") | (col(c) == \"\\\\N\") | (col(c) == \"\"), 1)\n",
    "                    .otherwise(0)).alias(c) for c in pit_stops.columns]).show()\n",
    "\n",
    "circuits.select([sum(when(col(c).isNull() | (col(c) == \"NA\") | (col(c) == \"\\\\N\") | (col(c) == \"\"), 1)\n",
    "                    .otherwise(0)).alias(c) for c in circuits.columns]).show()\n",
    "\n",
    "constructors.select([sum(when(col(c).isNull() | (col(c) == \"NA\") | (col(c) == \"\\\\N\") | (col(c) == \"\"), 1)\n",
    "                    .otherwise(0)).alias(c) for c in constructors.columns]).show()\n",
    "\n",
    "results.select([sum(when(col(c).isNull() | (col(c) == \"NA\") | (col(c) == \"\\\\N\") | (col(c) == \"\"), 1)\n",
    "                    .otherwise(0)).alias(c) for c in results.columns]).show()\n",
    "\n"
   ]
  },
  {
   "cell_type": "markdown",
   "metadata": {},
   "source": [
    "So, there are no null values or NA values but /N values in there"
   ]
  },
  {
   "cell_type": "code",
   "execution_count": 123,
   "metadata": {},
   "outputs": [
    {
     "name": "stdout",
     "output_type": "stream",
     "text": [
      "+--------+----------+------+----+--------+----------+----------+-----------+--------------------+\n",
      "|driverId| driverRef|number|code|forename|   surname|       dob|nationality|                 url|\n",
      "+--------+----------+------+----+--------+----------+----------+-----------+--------------------+\n",
      "|       1|  hamilton|    44| HAM|   Lewis|  Hamilton|1985-01-07|    British|http://en.wikiped...|\n",
      "|       2|  heidfeld|     0| HEI|    Nick|  Heidfeld|1977-05-10|     German|http://en.wikiped...|\n",
      "|       3|   rosberg|     6| ROS|    Nico|   Rosberg|1985-06-27|     German|http://en.wikiped...|\n",
      "|       4|    alonso|    14| ALO|Fernando|    Alonso|1981-07-29|    Spanish|http://en.wikiped...|\n",
      "|       5|kovalainen|     0| KOV|  Heikki|Kovalainen|1981-10-19|    Finnish|http://en.wikiped...|\n",
      "+--------+----------+------+----+--------+----------+----------+-----------+--------------------+\n",
      "only showing top 5 rows\n",
      "\n",
      "+------+----+-----+---------+--------------------+---------+--------+--------------------+--------+--------+--------+--------+--------+--------+----------+----------+-----------+-----------+\n",
      "|raceId|year|round|circuitId|                name|     date|    time|                 url|fp1_date|fp1_time|fp2_date|fp2_time|fp3_date|fp3_time|quali_date|quali_time|sprint_date|sprint_time|\n",
      "+------+----+-----+---------+--------------------+---------+--------+--------------------+--------+--------+--------+--------+--------+--------+----------+----------+-----------+-----------+\n",
      "|     1|2009|    1|        1|Australian Grand ...|3/29/2009| 6:00:00|http://en.wikiped...|       0|       0|       0|       0|       0|       0|         0|         0|          0|          0|\n",
      "|     2|2009|    2|        2|Malaysian Grand Prix| 4/5/2009| 9:00:00|http://en.wikiped...|       0|       0|       0|       0|       0|       0|         0|         0|          0|          0|\n",
      "|     3|2009|    3|       17|  Chinese Grand Prix|4/19/2009| 7:00:00|http://en.wikiped...|       0|       0|       0|       0|       0|       0|         0|         0|          0|          0|\n",
      "|     4|2009|    4|        3|  Bahrain Grand Prix|4/26/2009|12:00:00|http://en.wikiped...|       0|       0|       0|       0|       0|       0|         0|         0|          0|          0|\n",
      "|     5|2009|    5|        4|  Spanish Grand Prix|5/10/2009|12:00:00|http://en.wikiped...|       0|       0|       0|       0|       0|       0|         0|         0|          0|          0|\n",
      "+------+----+-----+---------+--------------------+---------+--------+--------------------+--------+--------+--------+--------+--------+--------+----------+----------+-----------+-----------+\n",
      "only showing top 5 rows\n",
      "\n"
     ]
    }
   ],
   "source": [
    "# Replace 'NA', 'N/A', and empty strings with null values\n",
    "drivers_cleaned = drivers.replace([\"\\\\N\"], \"0\")\n",
    "\n",
    "drivers_cleaned.show(5)\n",
    "\n",
    "\n",
    "races_cleaned = races.replace([\"\\\\N\"], \"0\")\n",
    "\n",
    "races_cleaned.show(5)\n"
   ]
  },
  {
   "cell_type": "code",
   "execution_count": 124,
   "metadata": {},
   "outputs": [],
   "source": [
    "# races_cleaned.select([sum(when(col(c) == \"0\", 1).otherwise(0)).alias(c) for c in races_cleaned.columns]).show()"
   ]
  },
  {
   "cell_type": "code",
   "execution_count": 125,
   "metadata": {},
   "outputs": [],
   "source": [
    "drivers_cleaned = drivers_cleaned.withColumn(\"number\", col(\"number\").cast(\"int\"))"
   ]
  },
  {
   "cell_type": "code",
   "execution_count": 126,
   "metadata": {},
   "outputs": [
    {
     "name": "stdout",
     "output_type": "stream",
     "text": [
      "root\n",
      " |-- driverId: integer (nullable = true)\n",
      " |-- driverRef: string (nullable = true)\n",
      " |-- number: integer (nullable = true)\n",
      " |-- code: string (nullable = true)\n",
      " |-- forename: string (nullable = true)\n",
      " |-- surname: string (nullable = true)\n",
      " |-- dob: date (nullable = true)\n",
      " |-- nationality: string (nullable = true)\n",
      " |-- url: string (nullable = true)\n",
      "\n"
     ]
    }
   ],
   "source": [
    "drivers_cleaned.printSchema()"
   ]
  },
  {
   "cell_type": "markdown",
   "metadata": {},
   "source": [
    "<h1> MERGE DATASETS THAT ARE OF USE </h1>"
   ]
  },
  {
   "cell_type": "markdown",
   "metadata": {},
   "source": [
    "We try here to merge the relevant datasets: results, races, contructors and drivers <br>\n",
    "We see that results and race have the common column called raceId, so we join the dfs using that <br>\n",
    "Later to join, contructors we see there's the common column called \"constructorId\" <br>"
   ]
  },
  {
   "cell_type": "markdown",
   "metadata": {},
   "source": [
    "results > races > constructors > drivers"
   ]
  },
  {
   "cell_type": "code",
   "execution_count": 127,
   "metadata": {},
   "outputs": [],
   "source": [
    "races = races.withColumnRenamed('name', 'gp_name')"
   ]
  },
  {
   "cell_type": "code",
   "execution_count": 128,
   "metadata": {},
   "outputs": [],
   "source": [
    "df = results.join(races.select('raceId', 'year' ,'round', 'gp_name'), on='raceId', how='left')"
   ]
  },
  {
   "cell_type": "code",
   "execution_count": 129,
   "metadata": {},
   "outputs": [
    {
     "name": "stdout",
     "output_type": "stream",
     "text": [
      "21\n"
     ]
    },
    {
     "name": "stdout",
     "output_type": "stream",
     "text": [
      "26519\n"
     ]
    }
   ],
   "source": [
    "print(len(df.columns))\n",
    "print(df.count())"
   ]
  },
  {
   "cell_type": "code",
   "execution_count": 130,
   "metadata": {},
   "outputs": [],
   "source": [
    "# Rename a single column\n",
    "constructors = constructors.withColumnRenamed('name', 'constructorName')\n",
    "constructors = constructors.withColumnRenamed('nationality', 'constructorNationality')\n"
   ]
  },
  {
   "cell_type": "code",
   "execution_count": 131,
   "metadata": {},
   "outputs": [],
   "source": [
    "df = df.join(constructors.select(\"constructorId\", \"constructorRef\", \"ConstructorName\", \"constructorNationality\"), on=\"constructorId\", how=\"left\")"
   ]
  },
  {
   "cell_type": "code",
   "execution_count": 132,
   "metadata": {},
   "outputs": [
    {
     "name": "stdout",
     "output_type": "stream",
     "text": [
      "24\n",
      "26519\n"
     ]
    }
   ],
   "source": [
    "print(len(df.columns))\n",
    "print(df.count())"
   ]
  },
  {
   "cell_type": "code",
   "execution_count": 133,
   "metadata": {},
   "outputs": [
    {
     "name": "stdout",
     "output_type": "stream",
     "text": [
      "+-------------+------+--------+--------+------+----+--------+------------+-------------+------+----+-----------+------------+----------+----+--------------+---------------+--------+----+-----+--------------------+--------------+---------------+----------------------+\n",
      "|constructorId|raceId|resultId|driverId|number|grid|position|positionText|positionOrder|points|laps|       time|milliseconds|fastestLap|rank|fastestLapTime|fastestLapSpeed|statusId|year|round|             gp_name|constructorRef|ConstructorName|constructorNationality|\n",
      "+-------------+------+--------+--------+------+----+--------+------------+-------------+------+----+-----------+------------+----------+----+--------------+---------------+--------+----+-----+--------------------+--------------+---------------+----------------------+\n",
      "|            1|    18|       1|       1|    22|   1|       1|           1|            1|  10.0|  58|1:34:50.616|     5690616|        39|   2|      1:27.452|        218.300|       1|2008|    1|Australian Grand ...|       mclaren|        McLaren|               British|\n",
      "|            2|    18|       2|       2|     3|   5|       2|           2|            2|   8.0|  58|     +5.478|     5696094|        41|   3|      1:27.739|        217.586|       1|2008|    1|Australian Grand ...|    bmw_sauber|     BMW Sauber|                German|\n",
      "|            3|    18|       3|       3|     7|   7|       3|           3|            3|   6.0|  58|     +8.163|     5698779|        41|   5|      1:28.090|        216.719|       1|2008|    1|Australian Grand ...|      williams|       Williams|               British|\n",
      "|            4|    18|       4|       4|     5|  11|       4|           4|            4|   5.0|  58|    +17.181|     5707797|        58|   7|      1:28.603|        215.464|       1|2008|    1|Australian Grand ...|       renault|        Renault|                French|\n",
      "|            1|    18|       5|       5|    23|   3|       5|           5|            5|   4.0|  58|    +18.014|     5708630|        43|   1|      1:27.418|        218.385|       1|2008|    1|Australian Grand ...|       mclaren|        McLaren|               British|\n",
      "+-------------+------+--------+--------+------+----+--------+------------+-------------+------+----+-----------+------------+----------+----+--------------+---------------+--------+----+-----+--------------------+--------------+---------------+----------------------+\n",
      "only showing top 5 rows\n",
      "\n"
     ]
    }
   ],
   "source": [
    "df.show(5)"
   ]
  },
  {
   "cell_type": "code",
   "execution_count": 134,
   "metadata": {},
   "outputs": [],
   "source": [
    "drivers = drivers.withColumnRenamed('nationality', 'driverNationality')"
   ]
  },
  {
   "cell_type": "code",
   "execution_count": 135,
   "metadata": {},
   "outputs": [
    {
     "data": {
      "text/plain": [
       "['driverId',\n",
       " 'driverRef',\n",
       " 'number',\n",
       " 'code',\n",
       " 'forename',\n",
       " 'surname',\n",
       " 'dob',\n",
       " 'driverNationality',\n",
       " 'url']"
      ]
     },
     "execution_count": 135,
     "metadata": {},
     "output_type": "execute_result"
    }
   ],
   "source": [
    "drivers.columns"
   ]
  },
  {
   "cell_type": "code",
   "execution_count": 136,
   "metadata": {},
   "outputs": [],
   "source": [
    "df = df.join(drivers.select(\"driverId\", \"driverRef\", \"code\", \"driverNationality\"), on=\"driverId\", how=\"left\")"
   ]
  },
  {
   "cell_type": "code",
   "execution_count": 137,
   "metadata": {},
   "outputs": [
    {
     "name": "stdout",
     "output_type": "stream",
     "text": [
      "27\n"
     ]
    },
    {
     "name": "stdout",
     "output_type": "stream",
     "text": [
      "26519\n"
     ]
    }
   ],
   "source": [
    "print(len(df.columns))\n",
    "print(df.count())"
   ]
  },
  {
   "cell_type": "code",
   "execution_count": 138,
   "metadata": {},
   "outputs": [
    {
     "name": "stdout",
     "output_type": "stream",
     "text": [
      "+--------+-------------+------+--------+------+----+--------+------------+-------------+------+----+-----------+------------+----------+----+--------------+---------------+--------+----+-----+--------------------+--------------+---------------+----------------------+----------+----+-----------------+\n",
      "|driverId|constructorId|raceId|resultId|number|grid|position|positionText|positionOrder|points|laps|       time|milliseconds|fastestLap|rank|fastestLapTime|fastestLapSpeed|statusId|year|round|             gp_name|constructorRef|ConstructorName|constructorNationality| driverRef|code|driverNationality|\n",
      "+--------+-------------+------+--------+------+----+--------+------------+-------------+------+----+-----------+------------+----------+----+--------------+---------------+--------+----+-----+--------------------+--------------+---------------+----------------------+----------+----+-----------------+\n",
      "|       1|            1|    18|       1|    22|   1|       1|           1|            1|  10.0|  58|1:34:50.616|     5690616|        39|   2|      1:27.452|        218.300|       1|2008|    1|Australian Grand ...|       mclaren|        McLaren|               British|  hamilton| HAM|          British|\n",
      "|       2|            2|    18|       2|     3|   5|       2|           2|            2|   8.0|  58|     +5.478|     5696094|        41|   3|      1:27.739|        217.586|       1|2008|    1|Australian Grand ...|    bmw_sauber|     BMW Sauber|                German|  heidfeld| HEI|           German|\n",
      "|       3|            3|    18|       3|     7|   7|       3|           3|            3|   6.0|  58|     +8.163|     5698779|        41|   5|      1:28.090|        216.719|       1|2008|    1|Australian Grand ...|      williams|       Williams|               British|   rosberg| ROS|           German|\n",
      "|       4|            4|    18|       4|     5|  11|       4|           4|            4|   5.0|  58|    +17.181|     5707797|        58|   7|      1:28.603|        215.464|       1|2008|    1|Australian Grand ...|       renault|        Renault|                French|    alonso| ALO|          Spanish|\n",
      "|       5|            1|    18|       5|    23|   3|       5|           5|            5|   4.0|  58|    +18.014|     5708630|        43|   1|      1:27.418|        218.385|       1|2008|    1|Australian Grand ...|       mclaren|        McLaren|               British|kovalainen| KOV|          Finnish|\n",
      "+--------+-------------+------+--------+------+----+--------+------------+-------------+------+----+-----------+------------+----------+----+--------------+---------------+--------+----+-----+--------------------+--------------+---------------+----------------------+----------+----+-----------------+\n",
      "only showing top 5 rows\n",
      "\n"
     ]
    }
   ],
   "source": [
    "df.show(5)"
   ]
  },
  {
   "cell_type": "markdown",
   "metadata": {},
   "source": [
    "I have the final merged dataset. Now, let's drop the irrelevant columns"
   ]
  },
  {
   "cell_type": "code",
   "execution_count": 139,
   "metadata": {},
   "outputs": [
    {
     "name": "stdout",
     "output_type": "stream",
     "text": [
      "+--------+-------------+------+--------+------+----+--------+------------+-------------+------+----+-----+------------+----------+-----+--------------+---------------+--------+----+-----+-------+--------------+---------------+----------------------+---------+-----+-----------------+\n",
      "|driverId|constructorId|raceId|resultId|number|grid|position|positionText|positionOrder|points|laps| time|milliseconds|fastestLap| rank|fastestLapTime|fastestLapSpeed|statusId|year|round|gp_name|constructorRef|ConstructorName|constructorNationality|driverRef| code|driverNationality|\n",
      "+--------+-------------+------+--------+------+----+--------+------------+-------------+------+----+-----+------------+----------+-----+--------------+---------------+--------+----+-----+-------+--------------+---------------+----------------------+---------+-----+-----------------+\n",
      "|       0|            0|     0|       0|     6|   0|   10928|           0|            0|     0|   0|18986|       18986|     18499|18249|         18499|          18499|       0|   0|    0|      0|             0|              0|                     0|        0|16581|                0|\n",
      "+--------+-------------+------+--------+------+----+--------+------------+-------------+------+----+-----+------------+----------+-----+--------------+---------------+--------+----+-----+-------+--------------+---------------+----------------------+---------+-----+-----------------+\n",
      "\n"
     ]
    }
   ],
   "source": [
    "df.select([sum(when(col(c).isNull() | (col(c) == \"NA\") | (col(c) == \"\\\\N\") | (col(c) == \"\"), 1)\n",
    "                    .otherwise(0)).alias(c) for c in df.columns]).show()"
   ]
  },
  {
   "cell_type": "code",
   "execution_count": 140,
   "metadata": {},
   "outputs": [],
   "source": [
    "df = df.drop(\"grid\", \"position\", \"positionText\" ,\"time\", \"statusId\")\n",
    "\n",
    "# Note: dropped milliseconds column because when doing analysis for 2024 dataset, the null values weere more than 50% hence dropped the column,\n",
    "# anways wasn't adding any value"
   ]
  },
  {
   "cell_type": "code",
   "execution_count": 141,
   "metadata": {},
   "outputs": [
    {
     "name": "stdout",
     "output_type": "stream",
     "text": [
      "+--------+-------------+------+--------+------+-------------+------+----+------------+----------+----+--------------+---------------+----+-----+--------------------+--------------+---------------+----------------------+----------+----+-----------------+\n",
      "|driverId|constructorId|raceId|resultId|number|positionOrder|points|laps|milliseconds|fastestLap|rank|fastestLapTime|fastestLapSpeed|year|round|             gp_name|constructorRef|ConstructorName|constructorNationality| driverRef|code|driverNationality|\n",
      "+--------+-------------+------+--------+------+-------------+------+----+------------+----------+----+--------------+---------------+----+-----+--------------------+--------------+---------------+----------------------+----------+----+-----------------+\n",
      "|       1|            1|    18|       1|    22|            1|  10.0|  58|     5690616|        39|   2|      1:27.452|        218.300|2008|    1|Australian Grand ...|       mclaren|        McLaren|               British|  hamilton| HAM|          British|\n",
      "|       2|            2|    18|       2|     3|            2|   8.0|  58|     5696094|        41|   3|      1:27.739|        217.586|2008|    1|Australian Grand ...|    bmw_sauber|     BMW Sauber|                German|  heidfeld| HEI|           German|\n",
      "|       3|            3|    18|       3|     7|            3|   6.0|  58|     5698779|        41|   5|      1:28.090|        216.719|2008|    1|Australian Grand ...|      williams|       Williams|               British|   rosberg| ROS|           German|\n",
      "|       4|            4|    18|       4|     5|            4|   5.0|  58|     5707797|        58|   7|      1:28.603|        215.464|2008|    1|Australian Grand ...|       renault|        Renault|                French|    alonso| ALO|          Spanish|\n",
      "|       5|            1|    18|       5|    23|            5|   4.0|  58|     5708630|        43|   1|      1:27.418|        218.385|2008|    1|Australian Grand ...|       mclaren|        McLaren|               British|kovalainen| KOV|          Finnish|\n",
      "|       6|            3|    18|       6|     8|            6|   3.0|  57|          \\N|        50|  14|      1:29.639|        212.974|2008|    1|Australian Grand ...|      williams|       Williams|               British|  nakajima| NAK|         Japanese|\n",
      "|       7|            5|    18|       7|    14|            7|   2.0|  55|          \\N|        54|   8|      1:29.534|        213.224|2008|    1|Australian Grand ...|    toro_rosso|     Toro Rosso|               Italian|  bourdais| BOU|           French|\n",
      "|       8|            6|    18|       8|     1|            8|   1.0|  53|          \\N|        20|   4|      1:27.903|        217.180|2008|    1|Australian Grand ...|       ferrari|        Ferrari|               Italian| raikkonen| RAI|          Finnish|\n",
      "|       9|            2|    18|       9|     4|            9|   0.0|  47|          \\N|        15|   9|      1:28.753|        215.100|2008|    1|Australian Grand ...|    bmw_sauber|     BMW Sauber|                German|    kubica| KUB|           Polish|\n",
      "|      10|            7|    18|      10|    12|           10|   0.0|  43|          \\N|        23|  13|      1:29.558|        213.166|2008|    1|Australian Grand ...|        toyota|         Toyota|              Japanese|     glock| GLO|           German|\n",
      "+--------+-------------+------+--------+------+-------------+------+----+------------+----------+----+--------------+---------------+----+-----+--------------------+--------------+---------------+----------------------+----------+----+-----------------+\n",
      "only showing top 10 rows\n",
      "\n"
     ]
    }
   ],
   "source": [
    "df.show(10)"
   ]
  },
  {
   "cell_type": "markdown",
   "metadata": {},
   "source": [
    "Now that I dropped the columns, I have to sort the data accordingly!"
   ]
  },
  {
   "cell_type": "code",
   "execution_count": 142,
   "metadata": {},
   "outputs": [],
   "source": [
    "df = df.orderBy(['year', 'round'], ascending=[True, True])"
   ]
  },
  {
   "cell_type": "code",
   "execution_count": 143,
   "metadata": {},
   "outputs": [
    {
     "name": "stdout",
     "output_type": "stream",
     "text": [
      "+--------+-------------+------+--------+------+-------------+------+----+------------+----------+----+--------------+---------------+----+-----+------------------+--------------+---------------+----------------------+-----------+----+-----------------+\n",
      "|driverId|constructorId|raceId|resultId|number|positionOrder|points|laps|milliseconds|fastestLap|rank|fastestLapTime|fastestLapSpeed|year|round|           gp_name|constructorRef|ConstructorName|constructorNationality|  driverRef|code|driverNationality|\n",
      "+--------+-------------+------+--------+------+-------------+------+----+------------+----------+----+--------------+---------------+----+-----+------------------+--------------+---------------+----------------------+-----------+----+-----------------+\n",
      "|     642|           51|   833|   20025|     2|            1|   9.0|  70|     8003600|        \\N|  \\N|            \\N|             \\N|1950|    1|British Grand Prix|          alfa|     Alfa Romeo|                 Swiss|     farina|  \\N|          Italian|\n",
      "|     619|          151|   833|   20030|    12|            6|   0.0|  67|          \\N|        \\N|  \\N|            \\N|             \\N|1950|    1|British Grand Prix|           era|            ERA|               British|     gerard|  \\N|          British|\n",
      "|     786|           51|   833|   20026|     3|            2|   6.0|  70|     8006200|        \\N|  \\N|            \\N|             \\N|1950|    1|British Grand Prix|          alfa|     Alfa Romeo|                 Swiss|    fagioli|  \\N|          Italian|\n",
      "|     686|           51|   833|   20027|     4|            3|   4.0|  70|     8055600|        \\N|  \\N|            \\N|             \\N|1950|    1|British Grand Prix|          alfa|     Alfa Romeo|                 Swiss|reg_parnell|  \\N|          British|\n",
      "|     704|          154|   833|   20028|    14|            4|   3.0|  68|          \\N|        \\N|  \\N|            \\N|             \\N|1950|    1|British Grand Prix|          lago|    Talbot-Lago|                French|  cabantous|  \\N|           French|\n",
      "+--------+-------------+------+--------+------+-------------+------+----+------------+----------+----+--------------+---------------+----+-----+------------------+--------------+---------------+----------------------+-----------+----+-----------------+\n",
      "only showing top 5 rows\n",
      "\n"
     ]
    }
   ],
   "source": [
    "df.show(5)"
   ]
  },
  {
   "cell_type": "markdown",
   "metadata": {},
   "source": [
    "<h2> I only want to see the data from 2024 </h2>"
   ]
  },
  {
   "cell_type": "code",
   "execution_count": 144,
   "metadata": {},
   "outputs": [
    {
     "name": "stdout",
     "output_type": "stream",
     "text": [
      "+--------+-------------+------+--------+------+-------------+------+----+------------+----------+----+--------------+---------------+----+-----+------------------+--------------+---------------+----------------------+--------------+----+-----------------+\n",
      "|driverId|constructorId|raceId|resultId|number|positionOrder|points|laps|milliseconds|fastestLap|rank|fastestLapTime|fastestLapSpeed|year|round|           gp_name|constructorRef|ConstructorName|constructorNationality|     driverRef|code|driverNationality|\n",
      "+--------+-------------+------+--------+------+-------------+------+----+------------+----------+----+--------------+---------------+----+-----+------------------+--------------+---------------+----------------------+--------------+----+-----------------+\n",
      "|     830|            9|  1121|   26286|     1|            1|  26.0|  57|     5504742|        39|   1|      1:32.608|        210.383|2024|    1|Bahrain Grand Prix|      red_bull|       Red Bull|              Austrian|max_verstappen| VER|            Dutch|\n",
      "|     815|            9|  1121|   26287|    11|            2|  18.0|  57|     5527199|        40|   4|      1:34.364|        206.468|2024|    1|Bahrain Grand Prix|      red_bull|       Red Bull|              Austrian|         perez| PER|          Mexican|\n",
      "|     832|            6|  1121|   26288|    55|            3|  15.0|  57|     5529852|        44|   6|      1:34.507|        206.156|2024|    1|Bahrain Grand Prix|       ferrari|        Ferrari|               Italian|         sainz| SAI|          Spanish|\n",
      "|     844|            6|  1121|   26289|    16|            4|  12.0|  57|     5544411|        36|   2|      1:34.090|        207.069|2024|    1|Bahrain Grand Prix|       ferrari|        Ferrari|               Italian|       leclerc| LEC|       Monegasque|\n",
      "|     847|          131|  1121|   26290|    63|            5|  10.0|  57|     5551530|        40|  12|      1:35.065|        204.946|2024|    1|Bahrain Grand Prix|      mercedes|       Mercedes|                German|       russell| RUS|          British|\n",
      "+--------+-------------+------+--------+------+-------------+------+----+------------+----------+----+--------------+---------------+----+-----+------------------+--------------+---------------+----------------------+--------------+----+-----------------+\n",
      "only showing top 5 rows\n",
      "\n",
      "Rows in 2024 dataset: 26519\n",
      "Columns in 2024 dataset: 22\n"
     ]
    }
   ],
   "source": [
    "# Filter the DataFrame for rows where 'year' is 2024\n",
    "df_2024 = df.filter(df['year'] == 2024)\n",
    "df_2024.show(5)\n",
    "\n",
    "print(\"Rows in 2024 dataset:\",df.count())\n",
    "print(\"Columns in 2024 dataset:\", len(df.columns))"
   ]
  },
  {
   "cell_type": "code",
   "execution_count": 167,
   "metadata": {},
   "outputs": [],
   "source": [
    "# rearrange the columns accoridngly\n",
    "df_2024 = df_2024.select(\"round\", \"driverId\", \"raceId\", \"constructorId\", \"resultId\", \"positionOrder\", \"gp_name\", \n",
    "                        \"driverRef\", \"code\", \"driverNationality\", \"ConstructorName\",\"constructorNationality\", \"constructorRef\", \n",
    "                        \"number\", \"points\" ,\"laps\", \"fastestLap\", \"fastestLapTime\", \"fastestLapSpeed\",\"milliseconds\", \"rank\", \"year\" )"
   ]
  },
  {
   "cell_type": "code",
   "execution_count": 168,
   "metadata": {},
   "outputs": [],
   "source": [
    "# df_2024.show()"
   ]
  },
  {
   "cell_type": "code",
   "execution_count": 147,
   "metadata": {},
   "outputs": [
    {
     "name": "stdout",
     "output_type": "stream",
     "text": [
      "+-----+--------+------+-------------+--------+-------------+-------+---------+----+-----------------+---------------+----------------------+--------------+------+------+----+----------+--------------+---------------+------------+----+----+\n",
      "|round|driverId|raceId|constructorId|resultId|positionOrder|gp_name|driverRef|code|driverNationality|ConstructorName|constructorNationality|constructorRef|number|points|laps|fastestLap|fastestLapTime|fastestLapSpeed|milliseconds|rank|year|\n",
      "+-----+--------+------+-------------+--------+-------------+-------+---------+----+-----------------+---------------+----------------------+--------------+------+------+----+----------+--------------+---------------+------------+----+----+\n",
      "|    0|       0|     0|            0|       0|            0|      0|        0|   0|                0|              0|                     0|             0|     0|     0|   0|        24|            24|             24|          98|   0|   0|\n",
      "+-----+--------+------+-------------+--------+-------------+-------+---------+----+-----------------+---------------+----------------------+--------------+------+------+----+----------+--------------+---------------+------------+----+----+\n",
      "\n"
     ]
    }
   ],
   "source": [
    "df_2024.select([sum(when(col(c).isNull() | (col(c) == \"NA\") | (col(c) == \"\\\\N\") | (col(c) == \"\"), 1)\n",
    "                    .otherwise(0)).alias(c) for c in df_2024.columns]).show()"
   ]
  },
  {
   "cell_type": "code",
   "execution_count": 148,
   "metadata": {},
   "outputs": [],
   "source": [
    "df_2024 = df_2024.orderBy(['round'], ascending=[True])"
   ]
  },
  {
   "cell_type": "code",
   "execution_count": 170,
   "metadata": {},
   "outputs": [],
   "source": [
    "# df_2024.select(\"round\").distinct().count()"
   ]
  },
  {
   "cell_type": "code",
   "execution_count": 150,
   "metadata": {},
   "outputs": [
    {
     "name": "stdout",
     "output_type": "stream",
     "text": [
      "+----+-----+\n",
      "|code|count|\n",
      "+----+-----+\n",
      "| OCO|   12|\n",
      "| BOT|   12|\n",
      "| HAM|   12|\n",
      "| VER|   12|\n",
      "| ZHO|   12|\n",
      "| MAG|   12|\n",
      "| NOR|   12|\n",
      "| TSU|   12|\n",
      "| HUL|   12|\n",
      "| ALB|   12|\n",
      "| PER|   12|\n",
      "| STR|   12|\n",
      "| GAS|   12|\n",
      "| LEC|   12|\n",
      "| RUS|   12|\n",
      "| RIC|   12|\n",
      "| PIA|   12|\n",
      "| ALO|   12|\n",
      "| SAR|   11|\n",
      "| SAI|   11|\n",
      "| BEA|    1|\n",
      "+----+-----+\n",
      "\n"
     ]
    }
   ],
   "source": [
    "df_2024.groupBy('code').count().orderBy('count', ascending=False).show(40)\n",
    "# circuits.groupBy('country').count().orderBy('count', ascending=False).show()"
   ]
  },
  {
   "cell_type": "code",
   "execution_count": 151,
   "metadata": {},
   "outputs": [],
   "source": [
    "import seaborn as sb"
   ]
  },
  {
   "cell_type": "code",
   "execution_count": 163,
   "metadata": {},
   "outputs": [],
   "source": [
    "# df_2024_round = df_2024.toPandas()\n",
    "# df_2024_round[\"round\"].hist(bins=12, color='blue')\n"
   ]
  },
  {
   "cell_type": "markdown",
   "metadata": {},
   "source": [
    "<h2> Let's findout the number of drivers who won the grand prix 2024 season </h2>"
   ]
  },
  {
   "cell_type": "code",
   "execution_count": 153,
   "metadata": {},
   "outputs": [],
   "source": [
    "winners_df = df_2024.filter(df_2024['positionOrder'] == 1)\n",
    "\n",
    "# winners_df.show(5)\n",
    "# print(len(winners_df.columns))\n",
    "# print(winners_df.count())"
   ]
  },
  {
   "cell_type": "code",
   "execution_count": 166,
   "metadata": {},
   "outputs": [
    {
     "data": {
      "text/html": [
       "<div>\n",
       "<style scoped>\n",
       "    .dataframe tbody tr th:only-of-type {\n",
       "        vertical-align: middle;\n",
       "    }\n",
       "\n",
       "    .dataframe tbody tr th {\n",
       "        vertical-align: top;\n",
       "    }\n",
       "\n",
       "    .dataframe thead th {\n",
       "        text-align: right;\n",
       "    }\n",
       "</style>\n",
       "<table border=\"1\" class=\"dataframe\">\n",
       "  <thead>\n",
       "    <tr style=\"text-align: right;\">\n",
       "      <th></th>\n",
       "      <th>driverRef</th>\n",
       "      <th>count</th>\n",
       "    </tr>\n",
       "  </thead>\n",
       "  <tbody>\n",
       "    <tr>\n",
       "      <th>0</th>\n",
       "      <td>sainz</td>\n",
       "      <td>1</td>\n",
       "    </tr>\n",
       "    <tr>\n",
       "      <th>1</th>\n",
       "      <td>russell</td>\n",
       "      <td>1</td>\n",
       "    </tr>\n",
       "    <tr>\n",
       "      <th>2</th>\n",
       "      <td>hamilton</td>\n",
       "      <td>1</td>\n",
       "    </tr>\n",
       "    <tr>\n",
       "      <th>3</th>\n",
       "      <td>norris</td>\n",
       "      <td>1</td>\n",
       "    </tr>\n",
       "    <tr>\n",
       "      <th>4</th>\n",
       "      <td>leclerc</td>\n",
       "      <td>1</td>\n",
       "    </tr>\n",
       "  </tbody>\n",
       "</table>\n",
       "</div>"
      ],
      "text/plain": [
       "  driverRef  count\n",
       "0     sainz      1\n",
       "1   russell      1\n",
       "2  hamilton      1\n",
       "3    norris      1\n",
       "4   leclerc      1"
      ]
     },
     "execution_count": 166,
     "metadata": {},
     "output_type": "execute_result"
    }
   ],
   "source": [
    "x = winners_df.groupBy('driverRef').count().orderBy('count')\n",
    "x = x.toPandas()\n",
    "x.head()  #these are all the people who won the GRAND PRIX in the 2024 season"
   ]
  },
  {
   "cell_type": "code",
   "execution_count": 155,
   "metadata": {},
   "outputs": [
    {
     "name": "stderr",
     "output_type": "stream",
     "text": [
      "C:\\Users\\Shreya\\AppData\\Local\\Temp\\ipykernel_20392\\4218359111.py:6: FutureWarning: \n",
      "\n",
      "Passing `palette` without assigning `hue` is deprecated and will be removed in v0.14.0. Assign the `y` variable to `hue` and set `legend=False` for the same effect.\n",
      "\n",
      "  sns.barplot(data=x, y='driverRef', x='count', palette='viridis')\n"
     ]
    },
    {
     "data": {
      "image/png": "[encoded data removed]",
      "text/plain": [
       "<Figure size 1200x600 with 1 Axes>"
      ]
     },
     "metadata": {},
     "output_type": "display_data"
    }
   ],
   "source": [
    "import seaborn as sns\n",
    "import matplotlib.pyplot as plt\n",
    "\n",
    "# Plot with Seaborn\n",
    "plt.figure(figsize=(12, 6))\n",
    "sns.barplot(data=x, y='driverRef', x='count', palette='viridis')\n",
    "plt.title('Most GP Winners in F1 2024 Season')\n",
    "plt.xlabel('Number of Wins')\n",
    "plt.ylabel('Drivers')\n",
    "plt.show()"
   ]
  },
  {
   "cell_type": "markdown",
   "metadata": {},
   "source": [
    "Fastest Lap Per Race"
   ]
  },
  {
   "cell_type": "code",
   "execution_count": 159,
   "metadata": {},
   "outputs": [
    {
     "name": "stdout",
     "output_type": "stream",
     "text": [
      "+------+----------+\n",
      "|raceId|fastestLap|\n",
      "+------+----------+\n",
      "|  1121|   5504742|\n",
      "|  1122|   4843273|\n",
      "|  1123|   4826843|\n",
      "|  1124|   6863566|\n",
      "|  1125|   6052554|\n",
      "|  1126|   5449876|\n",
      "|  1127|   5125252|\n",
      "|  1128|   8595554|\n",
      "|  1129|   6347927|\n",
      "|  1130|   5300227|\n",
      "|  1131|   5062798|\n",
      "|  1132|   4947059|\n",
      "+------+----------+\n",
      "\n"
     ]
    }
   ],
   "source": [
    "from pyspark.sql.functions import min\n",
    "\n",
    "fastest_lap = df_2024.groupBy(\"raceId\").agg(min(\"milliseconds\").alias(\"fastestLap\"))\n",
    "fastest_lap.show(15)"
   ]
  },
  {
   "cell_type": "code",
   "execution_count": 162,
   "metadata": {},
   "outputs": [
    {
     "name": "stderr",
     "output_type": "stream",
     "text": [
      "C:\\Users\\Shreya\\AppData\\Local\\Temp\\ipykernel_20392\\1247835994.py:7: FutureWarning: \n",
      "\n",
      "Passing `palette` without assigning `hue` is deprecated and will be removed in v0.14.0. Assign the `y` variable to `hue` and set `legend=False` for the same effect.\n",
      "\n",
      "  sns.barplot(data=fl_pd, y='fastestLap', x='raceId', palette='viridis')\n"
     ]
    },
    {
     "data": {
      "image/png": "[encoded data removed]",
      "text/plain": [
       "<Figure size 800x400 with 1 Axes>"
      ]
     },
     "metadata": {},
     "output_type": "display_data"
    }
   ],
   "source": [
    "import matplotlib.pyplot as plt\n",
    "\n",
    "# Convert average lap times to Pandas DataFrame\n",
    "fl_pd = fastest_lap.toPandas()\n",
    "\n",
    "# Plot average lap times\n",
    "sns.barplot(data=fl_pd, y='fastestLap', x='raceId', palette='viridis')\n",
    "# fl_pd.plot(kind='bar', x='raceId', y='fastestLap', legend=False)\n",
    "plt.title(\"Fastest Lap per Race\")\n",
    "plt.xlabel(\"Race Id\")\n",
    "plt.ylabel(\"Fastest Lap\")\n",
    "plt.show()\n"
   ]
  },
  {
   "cell_type": "markdown",
   "metadata": {},
   "source": [
    "Average Lap Time per Driver"
   ]
  },
  {
   "cell_type": "code",
   "execution_count": 160,
   "metadata": {},
   "outputs": [
    {
     "name": "stdout",
     "output_type": "stream",
     "text": [
      "+--------+-----------------+\n",
      "|driverId|avg(milliseconds)|\n",
      "+--------+-----------------+\n",
      "|     858|        5591841.5|\n",
      "|     857|5773048.916666667|\n",
      "|     830|5832091.909090909|\n",
      "|     847|        5943905.7|\n",
      "|     842|        5696275.0|\n",
      "|     844|        5784310.5|\n",
      "|     860|        4885952.0|\n",
      "|     822|        5945323.0|\n",
      "|     855|        5812049.0|\n",
      "|       1|5855418.090909091|\n",
      "|     852|        5456372.0|\n",
      "|     839|        5697293.4|\n",
      "|     846|5820312.363636363|\n",
      "|     840|5534057.142857143|\n",
      "|       4|       5656669.75|\n",
      "|     848|        5397775.0|\n",
      "|     817|5667132.666666667|\n",
      "|     807|        5416652.5|\n",
      "|     825|5528306.166666667|\n",
      "|     832|        5793762.6|\n",
      "+--------+-----------------+\n",
      "only showing top 20 rows\n",
      "\n"
     ]
    }
   ],
   "source": [
    "avg_lap_times = df_2024.groupBy(\"driverId\").agg({\"milliseconds\": \"avg\"})\n",
    "avg_lap_times.show()\n"
   ]
  },
  {
   "cell_type": "markdown",
   "metadata": {},
   "source": [
    "<h1> Just playing around for now! </h1>"
   ]
  },
  {
   "cell_type": "markdown",
   "metadata": {},
   "source": [
    "define the goal"
   ]
  },
  {
   "cell_type": "code",
   "execution_count": null,
   "metadata": {},
   "outputs": [],
   "source": [
    "# df = pd.merge(results, races[['raceid', 'year', 'name', 'round']], on = 'raceId', how = 'lefT')"
   ]
  },
  {
   "cell_type": "code",
   "execution_count": null,
   "metadata": {},
   "outputs": [],
   "source": [
    "# Merging Dataframes: Youtube Guy!\n"
   ]
  },
  {
   "cell_type": "code",
   "execution_count": 8,
   "metadata": {},
   "outputs": [
    {
     "data": {
      "text/plain": [
       "DataFrame[raceId: int, year: int, round: int, circuitId: int, name: string, date: date, time: string, url: string, fp1_date: string, fp1_time: string, fp2_date: string, fp2_time: string, fp3_date: string, fp3_time: string, quali_date: string, quali_time: string, sprint_date: string, sprint_time: string]"
      ]
     },
     "metadata": {},
     "output_type": "display_data"
    }
   ],
   "source": [
    "# display(races)"
   ]
  },
  {
   "cell_type": "code",
   "execution_count": 22,
   "metadata": {},
   "outputs": [],
   "source": [
    "# races = races.drop(\"fp1_date\", \"fp1_time\", \"fp2_date\", \"fp2_time\", \"fp3_date\", \"fp3_time\", \"quali_date\", \"quali_time\", \"sprint_date\", \"sprint_time\")"
   ]
  },
  {
   "cell_type": "code",
   "execution_count": 23,
   "metadata": {},
   "outputs": [
    {
     "data": {
      "text/plain": [
       "['raceId', 'year', 'round', 'circuitId', 'name', 'date', 'time', 'url']"
      ]
     },
     "execution_count": 23,
     "metadata": {},
     "output_type": "execute_result"
    }
   ],
   "source": [
    "# races.columns"
   ]
  },
  {
   "cell_type": "markdown",
   "metadata": {},
   "source": [
    "<h3> Maybe focus on finding answers to all this questions. <br> </h3>\n",
    "Driver and Team Performance: Wins, podiums, and points scored by drivers and teams each season.  <br>\n",
    "Qualifying and Race Results: Positions, lap times, and consistency in both qualifying sessions and races. <br>\n",
    "Championship Trends: Yearly evolution of drivers' and constructors' championships. <br>\n",
    "Circuit Analysis: Fastest laps, pole positions, and wins at each circuit. <br>\n",
    "Rule Changes Impact: Effects of regulation changes on team performance. <br>\n",
    "Pit Stop and Strategy: Pit stop timings and strategy shifts over the years. <br>\n",
    "Weather and Incidents: Effects of weather, crashes, or mechanical failures on outcomes. <br>"
   ]
  },
  {
   "cell_type": "markdown",
   "metadata": {},
   "source": [
    "<h3> VISUALISING HOW MANY RACE CIRCUITS WE HAVE </h3>"
   ]
  },
  {
   "cell_type": "code",
   "execution_count": 32,
   "metadata": {},
   "outputs": [
    {
     "name": "stdout",
     "output_type": "stream",
     "text": [
      "+-------------+\n",
      "|      country|\n",
      "+-------------+\n",
      "|       Russia|\n",
      "|       Sweden|\n",
      "|     Malaysia|\n",
      "|    Singapore|\n",
      "|       Turkey|\n",
      "|      Germany|\n",
      "|       France|\n",
      "|    Argentina|\n",
      "|      Belgium|\n",
      "|        Qatar|\n",
      "|        China|\n",
      "|United States|\n",
      "|        India|\n",
      "|        Italy|\n",
      "|        Spain|\n",
      "|       Monaco|\n",
      "|      Morocco|\n",
      "|          USA|\n",
      "|       Mexico|\n",
      "|   Azerbaijan|\n",
      "+-------------+\n",
      "only showing top 20 rows\n",
      "\n"
     ]
    }
   ],
   "source": [
    "circuits.select(\"country\").distinct().show()"
   ]
  },
  {
   "cell_type": "code",
   "execution_count": 173,
   "metadata": {},
   "outputs": [
    {
     "name": "stdout",
     "output_type": "stream",
     "text": [
      "+-------------+-----+\n",
      "|      country|count|\n",
      "+-------------+-----+\n",
      "|          USA|   11|\n",
      "|       France|    7|\n",
      "|        Spain|    6|\n",
      "|        Italy|    4|\n",
      "|           UK|    4|\n",
      "|     Portugal|    4|\n",
      "|      Germany|    3|\n",
      "|      Belgium|    3|\n",
      "|       Canada|    3|\n",
      "|        Japan|    3|\n",
      "|       Brazil|    2|\n",
      "|    Australia|    2|\n",
      "|      Austria|    2|\n",
      "| South Africa|    2|\n",
      "|       Russia|    1|\n",
      "|       Sweden|    1|\n",
      "|     Malaysia|    1|\n",
      "|    Singapore|    1|\n",
      "|       Turkey|    1|\n",
      "|    Argentina|    1|\n",
      "|        Qatar|    1|\n",
      "|        China|    1|\n",
      "|United States|    1|\n",
      "|        India|    1|\n",
      "|       Monaco|    1|\n",
      "|      Morocco|    1|\n",
      "|       Mexico|    1|\n",
      "|   Azerbaijan|    1|\n",
      "| Saudi Arabia|    1|\n",
      "|          UAE|    1|\n",
      "|  Switzerland|    1|\n",
      "|        Korea|    1|\n",
      "|      Bahrain|    1|\n",
      "|      Hungary|    1|\n",
      "|  Netherlands|    1|\n",
      "+-------------+-----+\n",
      "\n"
     ]
    }
   ],
   "source": [
    "circuits.groupBy('country').count().orderBy('count', ascending=False).show(40)"
   ]
  },
  {
   "cell_type": "markdown",
   "metadata": {},
   "source": [
    "<h3> VISUALISING HOW MANY RACES WERE HELD EACH YEAR </h3>"
   ]
  },
  {
   "cell_type": "code",
   "execution_count": 43,
   "metadata": {},
   "outputs": [
    {
     "data": {
      "text/plain": [
       "75"
      ]
     },
     "execution_count": 43,
     "metadata": {},
     "output_type": "execute_result"
    }
   ],
   "source": [
    "races.select(\"year\").distinct().count()"
   ]
  },
  {
   "cell_type": "code",
   "execution_count": 63,
   "metadata": {},
   "outputs": [
    {
     "name": "stdout",
     "output_type": "stream",
     "text": [
      "+----+-----+\n",
      "|year|count|\n",
      "+----+-----+\n",
      "|1950|    7|\n",
      "|1951|    8|\n",
      "|1952|    8|\n",
      "|1953|    9|\n",
      "|1954|    9|\n",
      "|1955|    7|\n",
      "|1956|    8|\n",
      "|1957|    8|\n",
      "|1958|   11|\n",
      "|1959|    9|\n",
      "|1960|   10|\n",
      "|1961|    8|\n",
      "|1962|    9|\n",
      "|1963|   10|\n",
      "|1964|   10|\n",
      "|1965|   10|\n",
      "|1966|    9|\n",
      "|1967|   11|\n",
      "|1968|   12|\n",
      "|1969|   11|\n",
      "+----+-----+\n",
      "only showing top 20 rows\n",
      "\n"
     ]
    }
   ],
   "source": [
    "races.groupBy('year').count().orderBy('year', ascending=True).show()"
   ]
  },
  {
   "cell_type": "code",
   "execution_count": 91,
   "metadata": {},
   "outputs": [
    {
     "data": {
      "image/png": "[encoded data removed]",
      "text/plain": [
       "<Figure size 2000x1000 with 1 Axes>"
      ]
     },
     "metadata": {},
     "output_type": "display_data"
    }
   ],
   "source": [
    "import matplotlib.pyplot as plt\n",
    "\n",
    "# Step 1: Group by 'year' and count the races\n",
    "race_counts = races.groupBy('year').count().orderBy('year')\n",
    "\n",
    "# Step 2: Convert to Pandas DataFrame for visualization\n",
    "race_counts_pd = race_counts.toPandas()\n",
    "\n",
    "# Step 3: Plot the results\n",
    "plt.figure(figsize=(20, 10))\n",
    "plt.bar(race_counts_pd['year'], race_counts_pd['count'], color='lightgreen')\n",
    "plt.xlabel('Year')\n",
    "plt.ylabel('Number of Races')\n",
    "plt.title('Number of Races Held Each Year')\n",
    "plt.yticks(np.arange(0, 25, step=4))\n",
    "plt.xticks(np.arange(1950, 2024, step=5))\n",
    "plt.show()\n",
    "# "
   ]
  },
  {
   "cell_type": "code",
   "execution_count": 97,
   "metadata": {},
   "outputs": [
    {
     "data": {
      "image/png": "[encoded data removed]",
      "text/plain": [
       "<Figure size 1000x1200 with 1 Axes>"
      ]
     },
     "metadata": {},
     "output_type": "display_data"
    }
   ],
   "source": [
    "plt.figure(figsize=(10, 12))\n",
    "plt.barh(race_counts_pd['year'], race_counts_pd['count'], color='skyblue')\n",
    "plt.xlabel('Number of Races')\n",
    "plt.ylabel('Year')\n",
    "plt.title('Number of Races Held Each Year')\n",
    "plt.xticks(np.arange(0, 25, step=4))\n",
    "plt.yticks(np.arange(1950, 2024, step=5))\n",
    "plt.show()"
   ]
  },
  {
   "cell_type": "code",
   "execution_count": 81,
   "metadata": {},
   "outputs": [],
   "source": [
    "# another way of plotting how many races have been held each year\n",
    "# Here I have kept the number of bins to be 75 since I know how many years are there in the dataset from 1950 - 2024.\n",
    "# races_pd = races.toPandas()\n",
    "\n",
    "# races_pd[\"year\"].hist(bins=75, color='blue')"
   ]
  },
  {
   "cell_type": "markdown",
   "metadata": {},
   "source": [
    "I wanted to sort the race file according to the year and round and since, date and time are of no relevance I dropped it with the url <br>\n",
    "ANother way of sorting it could also be with circuit Id <br>\n",
    "Another thing that can be done here is we can observe only a particular year's data <br>\n",
    "Alos notice, when we sorted it by year and round, the race Id has been mixed up"
   ]
  },
  {
   "cell_type": "code",
   "execution_count": 101,
   "metadata": {},
   "outputs": [
    {
     "name": "stdout",
     "output_type": "stream",
     "text": [
      "+------+----+-----+---------+------------------+\n",
      "|raceId|year|round|circuitId|              name|\n",
      "+------+----+-----+---------+------------------+\n",
      "|   833|1950|    1|        9|British Grand Prix|\n",
      "|   834|1950|    2|        6| Monaco Grand Prix|\n",
      "|   835|1950|    3|       19|  Indianapolis 500|\n",
      "|   836|1950|    4|       66|  Swiss Grand Prix|\n",
      "|   837|1950|    5|       13|Belgian Grand Prix|\n",
      "|   838|1950|    6|       55| French Grand Prix|\n",
      "|   839|1950|    7|       14|Italian Grand Prix|\n",
      "|   825|1951|    1|       66|  Swiss Grand Prix|\n",
      "|   826|1951|    2|       19|  Indianapolis 500|\n",
      "|   827|1951|    3|       13|Belgian Grand Prix|\n",
      "|   828|1951|    4|       55| French Grand Prix|\n",
      "|   829|1951|    5|        9|British Grand Prix|\n",
      "|   830|1951|    6|       20| German Grand Prix|\n",
      "|   831|1951|    7|       14|Italian Grand Prix|\n",
      "|   832|1951|    8|       67|Spanish Grand Prix|\n",
      "|   817|1952|    1|       66|  Swiss Grand Prix|\n",
      "|   818|1952|    2|       19|  Indianapolis 500|\n",
      "|   819|1952|    3|       13|Belgian Grand Prix|\n",
      "|   820|1952|    4|       53| French Grand Prix|\n",
      "|   821|1952|    5|        9|British Grand Prix|\n",
      "+------+----+-----+---------+------------------+\n",
      "only showing top 20 rows\n",
      "\n"
     ]
    }
   ],
   "source": [
    "# Sort the races DataFrame by 'year' and 'round'\n",
    "races_sorted = races.orderBy(['year', 'round'], ascending=[True, True])\n",
    "\n",
    "races_sorted = races_sorted.drop(\"date\", \"time\", \"url\")\n",
    "races_sorted.show(20)"
   ]
  }
 ],
 "metadata": {
  "kernelspec": {
   "display_name": "14763",
   "language": "python",
   "name": "python3"
  },
  "language_info": {
   "codemirror_mode": {
    "name": "ipython",
    "version": 3
   },
   "file_extension": ".py",
   "mimetype": "text/x-python",
   "name": "python",
   "nbconvert_exporter": "python",
   "pygments_lexer": "ipython3",
   "version": "3.11.8"
  }
 },
 "nbformat": 4,
 "nbformat_minor": 2
}
